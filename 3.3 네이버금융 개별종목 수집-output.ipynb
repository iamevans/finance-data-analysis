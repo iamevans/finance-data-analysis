{
 "cells": [
  {
   "cell_type": "markdown",
   "metadata": {
    "id": "pOdYzjmEAGhg"
   },
   "source": [
    "## 네이버 금융 개별종목 수집\n",
    "* FinanceDataReader를 통해 수집했던 데이터를 네이버 증권 웹 페이지를 통해 직접 수집합니다.\n",
    "\n",
    "\n",
    "### Keyword\n",
    "\n",
    "* html 파일 읽어오기\n",
    "    * pd.read_html(url, encoding=\"cp949\")\n",
    "\n",
    "* 결측 데이터 제거하기(axis 0:행, 1:열)\n",
    "    * table[0].dropna()\n",
    "\n",
    "* 데이터 프레임 합치기\n",
    "    * pd.concat([df1, df2, df3])\n",
    "\n",
    "* 중복데이터 제거\n",
    "    * df.drop_duplicates()\n",
    "\n",
    "* 과학적 기수법\n",
    "    * 1.210000e+02 => 121\n",
    "\n",
    "* 날짜 column의 첫 row값 확인\n",
    "    * date = df.iloc[0][\"날짜\"]\n",
    "\n",
    "* 파일로 저장하기 \n",
    "    * df.to_csv(file_name, index=False)\n",
    "\n",
    "* 파일 읽어오기\n",
    "    * pd.read_csv(file_name)"
   ]
  },
  {
   "cell_type": "markdown",
   "metadata": {
    "id": "-lIn4AdJTMkA"
   },
   "source": [
    "## 수집할 페이지 보기\n",
    "\n",
    "* 네이버 금융 국내증시 : https://finance.naver.com/sise/\n",
    "* 2020년 주요 상장종목\n",
    "    * 빅히트 : https://finance.naver.com/item/main.nhn?code=352820\n",
    "    * 카카오게임즈 : https://finance.naver.com/item/main.nhn?code=293490\n",
    "    * SK바이오팜 : https://finance.naver.com/item/main.nhn?code=326030"
   ]
  },
  {
   "cell_type": "markdown",
   "metadata": {},
   "source": [
    "## 라이브러리 로드"
   ]
  },
  {
   "cell_type": "code",
   "execution_count": 1,
   "metadata": {
    "id": "6Mm8vuymTMkA"
   },
   "outputs": [],
   "source": [
    "# 라이브러리 로드\n",
    "import pandas as pd"
   ]
  },
  {
   "cell_type": "markdown",
   "metadata": {},
   "source": [
    "## 수집할 URL 정하기"
   ]
  },
  {
   "cell_type": "code",
   "execution_count": 2,
   "metadata": {
    "id": "QzZJoAvoTMkA"
   },
   "outputs": [
    {
     "data": {
      "text/plain": [
       "'https://finance.naver.com/item/sise_day.nhn?code=326030&page=1'"
      ]
     },
     "execution_count": 2,
     "metadata": {},
     "output_type": "execute_result"
    }
   ],
   "source": [
    "# 종목번호와 상장사 이름을 item_code와 item_name으로 설정\n",
    "# item_code = \"352820\"\n",
    "# item_name = \"빅히트\"\n",
    "\n",
    "item_code = \"326030\"\n",
    "item_name = \"SK바이오팜\"\n",
    "page_no = 1\n",
    "\n",
    "# 종목 URL 만들기\n",
    "url = f\"https://finance.naver.com/item/sise_day.nhn?code={item_code}&page={page_no}\"\n",
    "url"
   ]
  },
  {
   "cell_type": "markdown",
   "metadata": {},
   "source": [
    "## requests를 통한 HTTP 요청\n",
    "* [Requests: HTTP for Humans™ — Requests documentation](https://requests.readthedocs.io/en/master/)\n",
    "* [Quickstart — Requests documentation # custom-headers](https://requests.readthedocs.io/en/latest/user/quickstart/#custom-headers)"
   ]
  },
  {
   "cell_type": "code",
   "execution_count": 3,
   "metadata": {},
   "outputs": [],
   "source": [
    "import requests\n",
    "\n",
    "headers = {'user-agent': 'Mozilla/5.0 (Macintosh; Intel Mac OS X 10_15_7) AppleWebKit/537.36 (KHTML, like Gecko) Chrome/88.0.4324.96 Safari/537.36'}\n",
    "\n",
    "response = requests.get(url, headers=headers)\n",
    "# response.text"
   ]
  },
  {
   "cell_type": "markdown",
   "metadata": {},
   "source": [
    "## BeautifulSoup 을 통한 table 태그 찾기"
   ]
  },
  {
   "cell_type": "code",
   "execution_count": 4,
   "metadata": {},
   "outputs": [
    {
     "data": {
      "text/plain": [
       "2"
      ]
     },
     "execution_count": 4,
     "metadata": {},
     "output_type": "execute_result"
    }
   ],
   "source": [
    "from bs4 import BeautifulSoup as bs\n",
    "\n",
    "html = bs(response.text, \"lxml\")\n",
    "table = html.select(\"table\")\n",
    "len(table)"
   ]
  },
  {
   "cell_type": "code",
   "execution_count": 5,
   "metadata": {},
   "outputs": [
    {
     "data": {
      "text/plain": [
       "list"
      ]
     },
     "execution_count": 5,
     "metadata": {},
     "output_type": "execute_result"
    }
   ],
   "source": [
    "type(table)"
   ]
  },
  {
   "cell_type": "markdown",
   "metadata": {},
   "source": [
    "## pandas 코드 한 줄로 데이터 수집하기"
   ]
  },
  {
   "cell_type": "code",
   "execution_count": 6,
   "metadata": {
    "id": "T3e0Jt0mTMkA"
   },
   "outputs": [],
   "source": [
    "# read_html을 이용하여 url의 page내의 값을 DataFrame으로 받아옵니다.\n",
    "# cp949는 한글 인코딩을 위해 사용합니다. 기본 인코딩 설정은 utf-8 이며, \n",
    "# 네이버의 일별 시세는 cp949 인코딩으로 불러올 수 있습니다.\n",
    "# 데이터를 로드 했을 때 한글 인코딩이 깨진다면 대부분 cp949 로 불러올 수 있습니다.\n",
    "table = pd.read_html(str(table))"
   ]
  },
  {
   "cell_type": "code",
   "execution_count": 7,
   "metadata": {
    "id": "GQ_LCYp0TMkA"
   },
   "outputs": [
    {
     "data": {
      "text/html": [
       "<div>\n",
       "<style scoped>\n",
       "    .dataframe tbody tr th:only-of-type {\n",
       "        vertical-align: middle;\n",
       "    }\n",
       "\n",
       "    .dataframe tbody tr th {\n",
       "        vertical-align: top;\n",
       "    }\n",
       "\n",
       "    .dataframe thead th {\n",
       "        text-align: right;\n",
       "    }\n",
       "</style>\n",
       "<table border=\"1\" class=\"dataframe\">\n",
       "  <thead>\n",
       "    <tr style=\"text-align: right;\">\n",
       "      <th></th>\n",
       "      <th>0</th>\n",
       "      <th>1</th>\n",
       "      <th>2</th>\n",
       "      <th>3</th>\n",
       "      <th>4</th>\n",
       "      <th>5</th>\n",
       "      <th>6</th>\n",
       "      <th>7</th>\n",
       "      <th>8</th>\n",
       "      <th>9</th>\n",
       "      <th>10</th>\n",
       "      <th>11</th>\n",
       "    </tr>\n",
       "  </thead>\n",
       "  <tbody>\n",
       "    <tr>\n",
       "      <th>0</th>\n",
       "      <td>1</td>\n",
       "      <td>2</td>\n",
       "      <td>3</td>\n",
       "      <td>4</td>\n",
       "      <td>5</td>\n",
       "      <td>6</td>\n",
       "      <td>7</td>\n",
       "      <td>8</td>\n",
       "      <td>9</td>\n",
       "      <td>10</td>\n",
       "      <td>다음</td>\n",
       "      <td>맨뒤</td>\n",
       "    </tr>\n",
       "  </tbody>\n",
       "</table>\n",
       "</div>"
      ],
      "text/plain": [
       "   0   1   2   3   4   5   6   7   8   9   10  11\n",
       "0   1   2   3   4   5   6   7   8   9  10  다음  맨뒤"
      ]
     },
     "execution_count": 7,
     "metadata": {},
     "output_type": "execute_result"
    }
   ],
   "source": [
    "# table[0]와 table[1]을 확인하여 보면 table[0]에 필요한 데이터들이 있습니다.\n",
    "table[1]"
   ]
  },
  {
   "cell_type": "code",
   "execution_count": 8,
   "metadata": {
    "id": "0gI1rNUbTMkA"
   },
   "outputs": [
    {
     "data": {
      "text/html": [
       "<div>\n",
       "<style scoped>\n",
       "    .dataframe tbody tr th:only-of-type {\n",
       "        vertical-align: middle;\n",
       "    }\n",
       "\n",
       "    .dataframe tbody tr th {\n",
       "        vertical-align: top;\n",
       "    }\n",
       "\n",
       "    .dataframe thead th {\n",
       "        text-align: right;\n",
       "    }\n",
       "</style>\n",
       "<table border=\"1\" class=\"dataframe\">\n",
       "  <thead>\n",
       "    <tr style=\"text-align: right;\">\n",
       "      <th></th>\n",
       "      <th>날짜</th>\n",
       "      <th>종가</th>\n",
       "      <th>전일비</th>\n",
       "      <th>시가</th>\n",
       "      <th>고가</th>\n",
       "      <th>저가</th>\n",
       "      <th>거래량</th>\n",
       "    </tr>\n",
       "  </thead>\n",
       "  <tbody>\n",
       "    <tr>\n",
       "      <th>1</th>\n",
       "      <td>2021.01.29</td>\n",
       "      <td>145000.0</td>\n",
       "      <td>3000.0</td>\n",
       "      <td>149000.0</td>\n",
       "      <td>149500.0</td>\n",
       "      <td>144500.0</td>\n",
       "      <td>254107.0</td>\n",
       "    </tr>\n",
       "    <tr>\n",
       "      <th>2</th>\n",
       "      <td>2021.01.28</td>\n",
       "      <td>148000.0</td>\n",
       "      <td>1500.0</td>\n",
       "      <td>148000.0</td>\n",
       "      <td>150500.0</td>\n",
       "      <td>147000.0</td>\n",
       "      <td>200418.0</td>\n",
       "    </tr>\n",
       "    <tr>\n",
       "      <th>3</th>\n",
       "      <td>2021.01.27</td>\n",
       "      <td>149500.0</td>\n",
       "      <td>2500.0</td>\n",
       "      <td>152000.0</td>\n",
       "      <td>153000.0</td>\n",
       "      <td>149500.0</td>\n",
       "      <td>167932.0</td>\n",
       "    </tr>\n",
       "    <tr>\n",
       "      <th>4</th>\n",
       "      <td>2021.01.26</td>\n",
       "      <td>152000.0</td>\n",
       "      <td>0.0</td>\n",
       "      <td>153000.0</td>\n",
       "      <td>155000.0</td>\n",
       "      <td>151500.0</td>\n",
       "      <td>245969.0</td>\n",
       "    </tr>\n",
       "    <tr>\n",
       "      <th>5</th>\n",
       "      <td>2021.01.25</td>\n",
       "      <td>152000.0</td>\n",
       "      <td>1500.0</td>\n",
       "      <td>151000.0</td>\n",
       "      <td>153500.0</td>\n",
       "      <td>150500.0</td>\n",
       "      <td>250843.0</td>\n",
       "    </tr>\n",
       "    <tr>\n",
       "      <th>9</th>\n",
       "      <td>2021.01.22</td>\n",
       "      <td>150500.0</td>\n",
       "      <td>1000.0</td>\n",
       "      <td>152500.0</td>\n",
       "      <td>153000.0</td>\n",
       "      <td>149000.0</td>\n",
       "      <td>211286.0</td>\n",
       "    </tr>\n",
       "    <tr>\n",
       "      <th>10</th>\n",
       "      <td>2021.01.21</td>\n",
       "      <td>151500.0</td>\n",
       "      <td>3500.0</td>\n",
       "      <td>148000.0</td>\n",
       "      <td>156500.0</td>\n",
       "      <td>147500.0</td>\n",
       "      <td>641065.0</td>\n",
       "    </tr>\n",
       "    <tr>\n",
       "      <th>11</th>\n",
       "      <td>2021.01.20</td>\n",
       "      <td>148000.0</td>\n",
       "      <td>0.0</td>\n",
       "      <td>147500.0</td>\n",
       "      <td>148000.0</td>\n",
       "      <td>146000.0</td>\n",
       "      <td>243971.0</td>\n",
       "    </tr>\n",
       "    <tr>\n",
       "      <th>12</th>\n",
       "      <td>2021.01.19</td>\n",
       "      <td>148000.0</td>\n",
       "      <td>0.0</td>\n",
       "      <td>146500.0</td>\n",
       "      <td>148000.0</td>\n",
       "      <td>145000.0</td>\n",
       "      <td>274255.0</td>\n",
       "    </tr>\n",
       "    <tr>\n",
       "      <th>13</th>\n",
       "      <td>2021.01.18</td>\n",
       "      <td>148000.0</td>\n",
       "      <td>5000.0</td>\n",
       "      <td>151500.0</td>\n",
       "      <td>151500.0</td>\n",
       "      <td>147000.0</td>\n",
       "      <td>419631.0</td>\n",
       "    </tr>\n",
       "  </tbody>\n",
       "</table>\n",
       "</div>"
      ],
      "text/plain": [
       "            날짜        종가     전일비        시가        고가        저가       거래량\n",
       "1   2021.01.29  145000.0  3000.0  149000.0  149500.0  144500.0  254107.0\n",
       "2   2021.01.28  148000.0  1500.0  148000.0  150500.0  147000.0  200418.0\n",
       "3   2021.01.27  149500.0  2500.0  152000.0  153000.0  149500.0  167932.0\n",
       "4   2021.01.26  152000.0     0.0  153000.0  155000.0  151500.0  245969.0\n",
       "5   2021.01.25  152000.0  1500.0  151000.0  153500.0  150500.0  250843.0\n",
       "9   2021.01.22  150500.0  1000.0  152500.0  153000.0  149000.0  211286.0\n",
       "10  2021.01.21  151500.0  3500.0  148000.0  156500.0  147500.0  641065.0\n",
       "11  2021.01.20  148000.0     0.0  147500.0  148000.0  146000.0  243971.0\n",
       "12  2021.01.19  148000.0     0.0  146500.0  148000.0  145000.0  274255.0\n",
       "13  2021.01.18  148000.0  5000.0  151500.0  151500.0  147000.0  419631.0"
      ]
     },
     "execution_count": 8,
     "metadata": {},
     "output_type": "execute_result"
    }
   ],
   "source": [
    "# dropna를 통해 결측치가 들어있는 row를 제거합니다.\n",
    "temp = table[0].dropna()\n",
    "temp"
   ]
  },
  {
   "cell_type": "markdown",
   "metadata": {
    "id": "CKhsb94wTMkA"
   },
   "source": [
    "## 페이지별 데이터 수집 함수 만들기"
   ]
  },
  {
   "cell_type": "code",
   "execution_count": 9,
   "metadata": {
    "id": "gJugcyoiTMkA"
   },
   "outputs": [],
   "source": [
    "# 종목 번호를 이용해 page에 따라 데이터를 읽어오는 함수\n",
    "# \"\"\" 는 이 두개 사이의 행들은 주석 처리되며, 함수의 docstring 으로 사용됩니다.\n",
    "\n",
    "def get_day_list(item_code, page_no):\n",
    "    \"\"\"\n",
    "    일자별 시세를 페이지별로 수집\n",
    "    \"\"\" \n",
    "    url = f\"https://finance.naver.com/item/sise_day.nhn?code={item_code}&page={page_no}\"\n",
    "    \n",
    "    headers = {'user-agent': 'Mozilla/5.0 (Macintosh; Intel Mac OS X 10_15_7) AppleWebKit/537.36 (KHTML, like Gecko) Chrome/88.0.4324.96 Safari/537.36'}\n",
    "\n",
    "    response = requests.get(url, headers=headers)\n",
    "    html = bs(response.text, \"lxml\")\n",
    "    table = html.select(\"table\")\n",
    "    table = pd.read_html(str(table))\n",
    "    temp = table[0].dropna()\n",
    "    return temp"
   ]
  },
  {
   "cell_type": "code",
   "execution_count": 10,
   "metadata": {
    "id": "evjinapgTMkA"
   },
   "outputs": [
    {
     "data": {
      "text/html": [
       "<div>\n",
       "<style scoped>\n",
       "    .dataframe tbody tr th:only-of-type {\n",
       "        vertical-align: middle;\n",
       "    }\n",
       "\n",
       "    .dataframe tbody tr th {\n",
       "        vertical-align: top;\n",
       "    }\n",
       "\n",
       "    .dataframe thead th {\n",
       "        text-align: right;\n",
       "    }\n",
       "</style>\n",
       "<table border=\"1\" class=\"dataframe\">\n",
       "  <thead>\n",
       "    <tr style=\"text-align: right;\">\n",
       "      <th></th>\n",
       "      <th>날짜</th>\n",
       "      <th>종가</th>\n",
       "      <th>전일비</th>\n",
       "      <th>시가</th>\n",
       "      <th>고가</th>\n",
       "      <th>저가</th>\n",
       "      <th>거래량</th>\n",
       "    </tr>\n",
       "  </thead>\n",
       "  <tbody>\n",
       "    <tr>\n",
       "      <th>1</th>\n",
       "      <td>2021.01.29</td>\n",
       "      <td>145000.0</td>\n",
       "      <td>3000.0</td>\n",
       "      <td>149000.0</td>\n",
       "      <td>149500.0</td>\n",
       "      <td>144500.0</td>\n",
       "      <td>254107.0</td>\n",
       "    </tr>\n",
       "    <tr>\n",
       "      <th>2</th>\n",
       "      <td>2021.01.28</td>\n",
       "      <td>148000.0</td>\n",
       "      <td>1500.0</td>\n",
       "      <td>148000.0</td>\n",
       "      <td>150500.0</td>\n",
       "      <td>147000.0</td>\n",
       "      <td>200418.0</td>\n",
       "    </tr>\n",
       "    <tr>\n",
       "      <th>3</th>\n",
       "      <td>2021.01.27</td>\n",
       "      <td>149500.0</td>\n",
       "      <td>2500.0</td>\n",
       "      <td>152000.0</td>\n",
       "      <td>153000.0</td>\n",
       "      <td>149500.0</td>\n",
       "      <td>167932.0</td>\n",
       "    </tr>\n",
       "    <tr>\n",
       "      <th>4</th>\n",
       "      <td>2021.01.26</td>\n",
       "      <td>152000.0</td>\n",
       "      <td>0.0</td>\n",
       "      <td>153000.0</td>\n",
       "      <td>155000.0</td>\n",
       "      <td>151500.0</td>\n",
       "      <td>245969.0</td>\n",
       "    </tr>\n",
       "    <tr>\n",
       "      <th>5</th>\n",
       "      <td>2021.01.25</td>\n",
       "      <td>152000.0</td>\n",
       "      <td>1500.0</td>\n",
       "      <td>151000.0</td>\n",
       "      <td>153500.0</td>\n",
       "      <td>150500.0</td>\n",
       "      <td>250843.0</td>\n",
       "    </tr>\n",
       "    <tr>\n",
       "      <th>9</th>\n",
       "      <td>2021.01.22</td>\n",
       "      <td>150500.0</td>\n",
       "      <td>1000.0</td>\n",
       "      <td>152500.0</td>\n",
       "      <td>153000.0</td>\n",
       "      <td>149000.0</td>\n",
       "      <td>211286.0</td>\n",
       "    </tr>\n",
       "    <tr>\n",
       "      <th>10</th>\n",
       "      <td>2021.01.21</td>\n",
       "      <td>151500.0</td>\n",
       "      <td>3500.0</td>\n",
       "      <td>148000.0</td>\n",
       "      <td>156500.0</td>\n",
       "      <td>147500.0</td>\n",
       "      <td>641065.0</td>\n",
       "    </tr>\n",
       "    <tr>\n",
       "      <th>11</th>\n",
       "      <td>2021.01.20</td>\n",
       "      <td>148000.0</td>\n",
       "      <td>0.0</td>\n",
       "      <td>147500.0</td>\n",
       "      <td>148000.0</td>\n",
       "      <td>146000.0</td>\n",
       "      <td>243971.0</td>\n",
       "    </tr>\n",
       "    <tr>\n",
       "      <th>12</th>\n",
       "      <td>2021.01.19</td>\n",
       "      <td>148000.0</td>\n",
       "      <td>0.0</td>\n",
       "      <td>146500.0</td>\n",
       "      <td>148000.0</td>\n",
       "      <td>145000.0</td>\n",
       "      <td>274255.0</td>\n",
       "    </tr>\n",
       "    <tr>\n",
       "      <th>13</th>\n",
       "      <td>2021.01.18</td>\n",
       "      <td>148000.0</td>\n",
       "      <td>5000.0</td>\n",
       "      <td>151500.0</td>\n",
       "      <td>151500.0</td>\n",
       "      <td>147000.0</td>\n",
       "      <td>419631.0</td>\n",
       "    </tr>\n",
       "  </tbody>\n",
       "</table>\n",
       "</div>"
      ],
      "text/plain": [
       "            날짜        종가     전일비        시가        고가        저가       거래량\n",
       "1   2021.01.29  145000.0  3000.0  149000.0  149500.0  144500.0  254107.0\n",
       "2   2021.01.28  148000.0  1500.0  148000.0  150500.0  147000.0  200418.0\n",
       "3   2021.01.27  149500.0  2500.0  152000.0  153000.0  149500.0  167932.0\n",
       "4   2021.01.26  152000.0     0.0  153000.0  155000.0  151500.0  245969.0\n",
       "5   2021.01.25  152000.0  1500.0  151000.0  153500.0  150500.0  250843.0\n",
       "9   2021.01.22  150500.0  1000.0  152500.0  153000.0  149000.0  211286.0\n",
       "10  2021.01.21  151500.0  3500.0  148000.0  156500.0  147500.0  641065.0\n",
       "11  2021.01.20  148000.0     0.0  147500.0  148000.0  146000.0  243971.0\n",
       "12  2021.01.19  148000.0     0.0  146500.0  148000.0  145000.0  274255.0\n",
       "13  2021.01.18  148000.0  5000.0  151500.0  151500.0  147000.0  419631.0"
      ]
     },
     "execution_count": 10,
     "metadata": {},
     "output_type": "execute_result"
    }
   ],
   "source": [
    "# 함수가 잘 만들어졌는지 확인하기\n",
    "get_day_list(item_code, 1)"
   ]
  },
  {
   "cell_type": "markdown",
   "metadata": {
    "id": "uuaac8XTTMkA"
   },
   "source": [
    "## 반복문을 통한 전체 일자 데이터 수집하기\n",
    "* (주의) 기간이 긴 데이터를 수집할때는 서버에 부담을 주지 않기 위해 time.sleep()값을 주세요."
   ]
  },
  {
   "cell_type": "code",
   "execution_count": 11,
   "metadata": {
    "id": "EQs1C6C_TMkA"
   },
   "outputs": [
    {
     "name": "stdout",
     "output_type": "stream",
     "text": [
      "1\n",
      "2\n",
      "3\n",
      "4\n",
      "5\n",
      "6\n",
      "7\n",
      "8\n",
      "9\n",
      "10\n"
     ]
    }
   ],
   "source": [
    "import time\n",
    "# web page 시작번호\n",
    "page_no = 1\n",
    "# 데이터를 저장할 빈 변수 선언\n",
    "item_list = []\n",
    "\n",
    "while True:\n",
    "    print(page_no)\n",
    "    temp = get_day_list(item_code, page_no)\n",
    "    item_list.append(temp)\n",
    "    \n",
    "    page_no = page_no + 1\n",
    "    time.sleep(0.1)\n",
    "    \n",
    "    #if temp.shape[0] < 10:\n",
    "    if page_no > 10:\n",
    "        break;"
   ]
  },
  {
   "cell_type": "code",
   "execution_count": 12,
   "metadata": {},
   "outputs": [
    {
     "data": {
      "text/plain": [
       "10"
      ]
     },
     "execution_count": 12,
     "metadata": {},
     "output_type": "execute_result"
    }
   ],
   "source": [
    "len(item_list)"
   ]
  },
  {
   "cell_type": "markdown",
   "metadata": {
    "id": "iEFBJv5XTMkA"
   },
   "source": [
    "## 수집한 데이터 하나의 데이터프레임으로 합치기\n",
    "\n",
    "<img src=\"https://pandas.pydata.org/docs/_images/merging_concat_basic.png\">\n",
    "\n",
    "* [Merge, join, concatenate and compare documentation](https://pandas.pydata.org/docs/user_guide/merging.html#merge-join-concatenate-and-compare)"
   ]
  },
  {
   "cell_type": "code",
   "execution_count": 13,
   "metadata": {
    "id": "mUcxeTMFTMkA"
   },
   "outputs": [],
   "source": [
    "# DataFrame들이 list의 형태로 저장된 것을 concat을 이용하여 합치면서 하나의 DataFrame으로 만듭니다.\n",
    "df = pd.concat(item_list)"
   ]
  },
  {
   "cell_type": "markdown",
   "metadata": {},
   "source": [
    "<img src=\"https://pandas.pydata.org/docs/_images/08_concat_row1.svg\">"
   ]
  },
  {
   "cell_type": "code",
   "execution_count": 14,
   "metadata": {
    "id": "Ep3NWfM-TMkA"
   },
   "outputs": [
    {
     "data": {
      "text/html": [
       "<div>\n",
       "<style scoped>\n",
       "    .dataframe tbody tr th:only-of-type {\n",
       "        vertical-align: middle;\n",
       "    }\n",
       "\n",
       "    .dataframe tbody tr th {\n",
       "        vertical-align: top;\n",
       "    }\n",
       "\n",
       "    .dataframe thead th {\n",
       "        text-align: right;\n",
       "    }\n",
       "</style>\n",
       "<table border=\"1\" class=\"dataframe\">\n",
       "  <thead>\n",
       "    <tr style=\"text-align: right;\">\n",
       "      <th></th>\n",
       "      <th>날짜</th>\n",
       "      <th>종가</th>\n",
       "      <th>전일비</th>\n",
       "      <th>시가</th>\n",
       "      <th>고가</th>\n",
       "      <th>저가</th>\n",
       "      <th>거래량</th>\n",
       "    </tr>\n",
       "  </thead>\n",
       "  <tbody>\n",
       "    <tr>\n",
       "      <th>1</th>\n",
       "      <td>2021.01.29</td>\n",
       "      <td>145000.0</td>\n",
       "      <td>3000.0</td>\n",
       "      <td>149000.0</td>\n",
       "      <td>149500.0</td>\n",
       "      <td>144500.0</td>\n",
       "      <td>254107.0</td>\n",
       "    </tr>\n",
       "    <tr>\n",
       "      <th>2</th>\n",
       "      <td>2021.01.28</td>\n",
       "      <td>148000.0</td>\n",
       "      <td>1500.0</td>\n",
       "      <td>148000.0</td>\n",
       "      <td>150500.0</td>\n",
       "      <td>147000.0</td>\n",
       "      <td>200418.0</td>\n",
       "    </tr>\n",
       "    <tr>\n",
       "      <th>3</th>\n",
       "      <td>2021.01.27</td>\n",
       "      <td>149500.0</td>\n",
       "      <td>2500.0</td>\n",
       "      <td>152000.0</td>\n",
       "      <td>153000.0</td>\n",
       "      <td>149500.0</td>\n",
       "      <td>167932.0</td>\n",
       "    </tr>\n",
       "    <tr>\n",
       "      <th>4</th>\n",
       "      <td>2021.01.26</td>\n",
       "      <td>152000.0</td>\n",
       "      <td>0.0</td>\n",
       "      <td>153000.0</td>\n",
       "      <td>155000.0</td>\n",
       "      <td>151500.0</td>\n",
       "      <td>245969.0</td>\n",
       "    </tr>\n",
       "    <tr>\n",
       "      <th>5</th>\n",
       "      <td>2021.01.25</td>\n",
       "      <td>152000.0</td>\n",
       "      <td>1500.0</td>\n",
       "      <td>151000.0</td>\n",
       "      <td>153500.0</td>\n",
       "      <td>150500.0</td>\n",
       "      <td>250843.0</td>\n",
       "    </tr>\n",
       "  </tbody>\n",
       "</table>\n",
       "</div>"
      ],
      "text/plain": [
       "           날짜        종가     전일비        시가        고가        저가       거래량\n",
       "1  2021.01.29  145000.0  3000.0  149000.0  149500.0  144500.0  254107.0\n",
       "2  2021.01.28  148000.0  1500.0  148000.0  150500.0  147000.0  200418.0\n",
       "3  2021.01.27  149500.0  2500.0  152000.0  153000.0  149500.0  167932.0\n",
       "4  2021.01.26  152000.0     0.0  153000.0  155000.0  151500.0  245969.0\n",
       "5  2021.01.25  152000.0  1500.0  151000.0  153500.0  150500.0  250843.0"
      ]
     },
     "execution_count": 14,
     "metadata": {},
     "output_type": "execute_result"
    }
   ],
   "source": [
    "# head와 tail로 데이터의 일부를 가져와서 봅니다.\n",
    "df.head()"
   ]
  },
  {
   "cell_type": "code",
   "execution_count": 15,
   "metadata": {
    "id": "hHcKUo8iTMkA"
   },
   "outputs": [
    {
     "data": {
      "text/html": [
       "<div>\n",
       "<style scoped>\n",
       "    .dataframe tbody tr th:only-of-type {\n",
       "        vertical-align: middle;\n",
       "    }\n",
       "\n",
       "    .dataframe tbody tr th {\n",
       "        vertical-align: top;\n",
       "    }\n",
       "\n",
       "    .dataframe thead th {\n",
       "        text-align: right;\n",
       "    }\n",
       "</style>\n",
       "<table border=\"1\" class=\"dataframe\">\n",
       "  <thead>\n",
       "    <tr style=\"text-align: right;\">\n",
       "      <th></th>\n",
       "      <th>날짜</th>\n",
       "      <th>종가</th>\n",
       "      <th>전일비</th>\n",
       "      <th>시가</th>\n",
       "      <th>고가</th>\n",
       "      <th>저가</th>\n",
       "      <th>거래량</th>\n",
       "    </tr>\n",
       "  </thead>\n",
       "  <tbody>\n",
       "    <tr>\n",
       "      <th>9</th>\n",
       "      <td>2020.09.09</td>\n",
       "      <td>191000.0</td>\n",
       "      <td>3000.0</td>\n",
       "      <td>184500.0</td>\n",
       "      <td>194000.0</td>\n",
       "      <td>181000.0</td>\n",
       "      <td>752071.0</td>\n",
       "    </tr>\n",
       "    <tr>\n",
       "      <th>10</th>\n",
       "      <td>2020.09.08</td>\n",
       "      <td>188000.0</td>\n",
       "      <td>3500.0</td>\n",
       "      <td>193000.0</td>\n",
       "      <td>197000.0</td>\n",
       "      <td>187000.0</td>\n",
       "      <td>688213.0</td>\n",
       "    </tr>\n",
       "    <tr>\n",
       "      <th>11</th>\n",
       "      <td>2020.09.07</td>\n",
       "      <td>191500.0</td>\n",
       "      <td>1500.0</td>\n",
       "      <td>193000.0</td>\n",
       "      <td>193500.0</td>\n",
       "      <td>187000.0</td>\n",
       "      <td>588499.0</td>\n",
       "    </tr>\n",
       "    <tr>\n",
       "      <th>12</th>\n",
       "      <td>2020.09.04</td>\n",
       "      <td>190000.0</td>\n",
       "      <td>8000.0</td>\n",
       "      <td>177000.0</td>\n",
       "      <td>191500.0</td>\n",
       "      <td>177000.0</td>\n",
       "      <td>1263233.0</td>\n",
       "    </tr>\n",
       "    <tr>\n",
       "      <th>13</th>\n",
       "      <td>2020.09.03</td>\n",
       "      <td>182000.0</td>\n",
       "      <td>500.0</td>\n",
       "      <td>183500.0</td>\n",
       "      <td>186500.0</td>\n",
       "      <td>179000.0</td>\n",
       "      <td>564777.0</td>\n",
       "    </tr>\n",
       "  </tbody>\n",
       "</table>\n",
       "</div>"
      ],
      "text/plain": [
       "            날짜        종가     전일비        시가        고가        저가        거래량\n",
       "9   2020.09.09  191000.0  3000.0  184500.0  194000.0  181000.0   752071.0\n",
       "10  2020.09.08  188000.0  3500.0  193000.0  197000.0  187000.0   688213.0\n",
       "11  2020.09.07  191500.0  1500.0  193000.0  193500.0  187000.0   588499.0\n",
       "12  2020.09.04  190000.0  8000.0  177000.0  191500.0  177000.0  1263233.0\n",
       "13  2020.09.03  182000.0   500.0  183500.0  186500.0  179000.0   564777.0"
      ]
     },
     "execution_count": 15,
     "metadata": {},
     "output_type": "execute_result"
    }
   ],
   "source": [
    "df.tail()"
   ]
  },
  {
   "cell_type": "markdown",
   "metadata": {
    "id": "DdML6w8yTMkA"
   },
   "source": [
    "## 데이터프레임에 종목코드와 종목명을 추가하기\n",
    "* 파생변수 만들기"
   ]
  },
  {
   "cell_type": "code",
   "execution_count": 16,
   "metadata": {
    "id": "-yIDnlZHTMkA"
   },
   "outputs": [
    {
     "data": {
      "text/html": [
       "<div>\n",
       "<style scoped>\n",
       "    .dataframe tbody tr th:only-of-type {\n",
       "        vertical-align: middle;\n",
       "    }\n",
       "\n",
       "    .dataframe tbody tr th {\n",
       "        vertical-align: top;\n",
       "    }\n",
       "\n",
       "    .dataframe thead th {\n",
       "        text-align: right;\n",
       "    }\n",
       "</style>\n",
       "<table border=\"1\" class=\"dataframe\">\n",
       "  <thead>\n",
       "    <tr style=\"text-align: right;\">\n",
       "      <th></th>\n",
       "      <th>날짜</th>\n",
       "      <th>종가</th>\n",
       "      <th>전일비</th>\n",
       "      <th>시가</th>\n",
       "      <th>고가</th>\n",
       "      <th>저가</th>\n",
       "      <th>거래량</th>\n",
       "      <th>종목코드</th>\n",
       "      <th>종목명</th>\n",
       "    </tr>\n",
       "  </thead>\n",
       "  <tbody>\n",
       "    <tr>\n",
       "      <th>1</th>\n",
       "      <td>2021.01.29</td>\n",
       "      <td>145000.0</td>\n",
       "      <td>3000.0</td>\n",
       "      <td>149000.0</td>\n",
       "      <td>149500.0</td>\n",
       "      <td>144500.0</td>\n",
       "      <td>254107.0</td>\n",
       "      <td>326030</td>\n",
       "      <td>SK바이오팜</td>\n",
       "    </tr>\n",
       "    <tr>\n",
       "      <th>2</th>\n",
       "      <td>2021.01.28</td>\n",
       "      <td>148000.0</td>\n",
       "      <td>1500.0</td>\n",
       "      <td>148000.0</td>\n",
       "      <td>150500.0</td>\n",
       "      <td>147000.0</td>\n",
       "      <td>200418.0</td>\n",
       "      <td>326030</td>\n",
       "      <td>SK바이오팜</td>\n",
       "    </tr>\n",
       "    <tr>\n",
       "      <th>3</th>\n",
       "      <td>2021.01.27</td>\n",
       "      <td>149500.0</td>\n",
       "      <td>2500.0</td>\n",
       "      <td>152000.0</td>\n",
       "      <td>153000.0</td>\n",
       "      <td>149500.0</td>\n",
       "      <td>167932.0</td>\n",
       "      <td>326030</td>\n",
       "      <td>SK바이오팜</td>\n",
       "    </tr>\n",
       "    <tr>\n",
       "      <th>4</th>\n",
       "      <td>2021.01.26</td>\n",
       "      <td>152000.0</td>\n",
       "      <td>0.0</td>\n",
       "      <td>153000.0</td>\n",
       "      <td>155000.0</td>\n",
       "      <td>151500.0</td>\n",
       "      <td>245969.0</td>\n",
       "      <td>326030</td>\n",
       "      <td>SK바이오팜</td>\n",
       "    </tr>\n",
       "    <tr>\n",
       "      <th>5</th>\n",
       "      <td>2021.01.25</td>\n",
       "      <td>152000.0</td>\n",
       "      <td>1500.0</td>\n",
       "      <td>151000.0</td>\n",
       "      <td>153500.0</td>\n",
       "      <td>150500.0</td>\n",
       "      <td>250843.0</td>\n",
       "      <td>326030</td>\n",
       "      <td>SK바이오팜</td>\n",
       "    </tr>\n",
       "    <tr>\n",
       "      <th>...</th>\n",
       "      <td>...</td>\n",
       "      <td>...</td>\n",
       "      <td>...</td>\n",
       "      <td>...</td>\n",
       "      <td>...</td>\n",
       "      <td>...</td>\n",
       "      <td>...</td>\n",
       "      <td>...</td>\n",
       "      <td>...</td>\n",
       "    </tr>\n",
       "    <tr>\n",
       "      <th>9</th>\n",
       "      <td>2020.09.09</td>\n",
       "      <td>191000.0</td>\n",
       "      <td>3000.0</td>\n",
       "      <td>184500.0</td>\n",
       "      <td>194000.0</td>\n",
       "      <td>181000.0</td>\n",
       "      <td>752071.0</td>\n",
       "      <td>326030</td>\n",
       "      <td>SK바이오팜</td>\n",
       "    </tr>\n",
       "    <tr>\n",
       "      <th>10</th>\n",
       "      <td>2020.09.08</td>\n",
       "      <td>188000.0</td>\n",
       "      <td>3500.0</td>\n",
       "      <td>193000.0</td>\n",
       "      <td>197000.0</td>\n",
       "      <td>187000.0</td>\n",
       "      <td>688213.0</td>\n",
       "      <td>326030</td>\n",
       "      <td>SK바이오팜</td>\n",
       "    </tr>\n",
       "    <tr>\n",
       "      <th>11</th>\n",
       "      <td>2020.09.07</td>\n",
       "      <td>191500.0</td>\n",
       "      <td>1500.0</td>\n",
       "      <td>193000.0</td>\n",
       "      <td>193500.0</td>\n",
       "      <td>187000.0</td>\n",
       "      <td>588499.0</td>\n",
       "      <td>326030</td>\n",
       "      <td>SK바이오팜</td>\n",
       "    </tr>\n",
       "    <tr>\n",
       "      <th>12</th>\n",
       "      <td>2020.09.04</td>\n",
       "      <td>190000.0</td>\n",
       "      <td>8000.0</td>\n",
       "      <td>177000.0</td>\n",
       "      <td>191500.0</td>\n",
       "      <td>177000.0</td>\n",
       "      <td>1263233.0</td>\n",
       "      <td>326030</td>\n",
       "      <td>SK바이오팜</td>\n",
       "    </tr>\n",
       "    <tr>\n",
       "      <th>13</th>\n",
       "      <td>2020.09.03</td>\n",
       "      <td>182000.0</td>\n",
       "      <td>500.0</td>\n",
       "      <td>183500.0</td>\n",
       "      <td>186500.0</td>\n",
       "      <td>179000.0</td>\n",
       "      <td>564777.0</td>\n",
       "      <td>326030</td>\n",
       "      <td>SK바이오팜</td>\n",
       "    </tr>\n",
       "  </tbody>\n",
       "</table>\n",
       "<p>100 rows × 9 columns</p>\n",
       "</div>"
      ],
      "text/plain": [
       "            날짜        종가     전일비        시가        고가        저가        거래량  \\\n",
       "1   2021.01.29  145000.0  3000.0  149000.0  149500.0  144500.0   254107.0   \n",
       "2   2021.01.28  148000.0  1500.0  148000.0  150500.0  147000.0   200418.0   \n",
       "3   2021.01.27  149500.0  2500.0  152000.0  153000.0  149500.0   167932.0   \n",
       "4   2021.01.26  152000.0     0.0  153000.0  155000.0  151500.0   245969.0   \n",
       "5   2021.01.25  152000.0  1500.0  151000.0  153500.0  150500.0   250843.0   \n",
       "..         ...       ...     ...       ...       ...       ...        ...   \n",
       "9   2020.09.09  191000.0  3000.0  184500.0  194000.0  181000.0   752071.0   \n",
       "10  2020.09.08  188000.0  3500.0  193000.0  197000.0  187000.0   688213.0   \n",
       "11  2020.09.07  191500.0  1500.0  193000.0  193500.0  187000.0   588499.0   \n",
       "12  2020.09.04  190000.0  8000.0  177000.0  191500.0  177000.0  1263233.0   \n",
       "13  2020.09.03  182000.0   500.0  183500.0  186500.0  179000.0   564777.0   \n",
       "\n",
       "      종목코드     종목명  \n",
       "1   326030  SK바이오팜  \n",
       "2   326030  SK바이오팜  \n",
       "3   326030  SK바이오팜  \n",
       "4   326030  SK바이오팜  \n",
       "5   326030  SK바이오팜  \n",
       "..     ...     ...  \n",
       "9   326030  SK바이오팜  \n",
       "10  326030  SK바이오팜  \n",
       "11  326030  SK바이오팜  \n",
       "12  326030  SK바이오팜  \n",
       "13  326030  SK바이오팜  \n",
       "\n",
       "[100 rows x 9 columns]"
      ]
     },
     "execution_count": 16,
     "metadata": {},
     "output_type": "execute_result"
    }
   ],
   "source": [
    "# '종목코드'와 '종목명' column을 추가하면서 각각 item_code와 item_name 값을 입력합니다.\n",
    "df[\"종목코드\"] = item_code\n",
    "df[\"종목명\"] = item_name\n",
    "df"
   ]
  },
  {
   "cell_type": "code",
   "execution_count": null,
   "metadata": {
    "id": "bwDA0C4PTMkA"
   },
   "outputs": [],
   "source": []
  },
  {
   "cell_type": "markdown",
   "metadata": {
    "id": "3RlnKPE1TMkA"
   },
   "source": [
    "## 컬럼 순서 변경하기"
   ]
  },
  {
   "cell_type": "code",
   "execution_count": 17,
   "metadata": {
    "id": "JblNSbuRTMkA"
   },
   "outputs": [
    {
     "data": {
      "text/plain": [
       "Index(['날짜', '종가', '전일비', '시가', '고가', '저가', '거래량', '종목코드', '종목명'], dtype='object')"
      ]
     },
     "execution_count": 17,
     "metadata": {},
     "output_type": "execute_result"
    }
   ],
   "source": [
    "# DataFrame에서 column 들의 이름을 순서를 조정하여 column순서를 변경할 수 있습니다.\n",
    "df.columns"
   ]
  },
  {
   "cell_type": "code",
   "execution_count": 18,
   "metadata": {},
   "outputs": [],
   "source": [
    "cols = ['종목코드', '종목명', '날짜', '종가', '전일비', '시가', '고가', '저가', '거래량']\n",
    "df = df[cols]"
   ]
  },
  {
   "cell_type": "markdown",
   "metadata": {
    "id": "_-SXjeiSTMkA"
   },
   "source": [
    "## 중복데이터 제거하기\n",
    "* drop_duplicates 를 통해 중복된 데이터가 있다면 제거합니다."
   ]
  },
  {
   "cell_type": "code",
   "execution_count": 19,
   "metadata": {
    "id": "F0VZGMNRTMkA"
   },
   "outputs": [
    {
     "data": {
      "text/plain": [
       "(100, 9)"
      ]
     },
     "execution_count": 19,
     "metadata": {},
     "output_type": "execute_result"
    }
   ],
   "source": [
    "# drop_duplicates : row들 끼리 data를 비교하여 같은 값이 있으면 row중 하나를 삭제\n",
    "# df.shape를 전/후로 출력하여 삭제된 row가 있는지 확인\n",
    "df = df.drop_duplicates()\n",
    "df.shape"
   ]
  },
  {
   "cell_type": "markdown",
   "metadata": {
    "id": "viEbEi4iTMkB"
   },
   "source": [
    "## 기술통계값 구하기"
   ]
  },
  {
   "cell_type": "code",
   "execution_count": 20,
   "metadata": {
    "id": "Q-gV-QPPTMkB"
   },
   "outputs": [
    {
     "data": {
      "text/html": [
       "<div>\n",
       "<style scoped>\n",
       "    .dataframe tbody tr th:only-of-type {\n",
       "        vertical-align: middle;\n",
       "    }\n",
       "\n",
       "    .dataframe tbody tr th {\n",
       "        vertical-align: top;\n",
       "    }\n",
       "\n",
       "    .dataframe thead th {\n",
       "        text-align: right;\n",
       "    }\n",
       "</style>\n",
       "<table border=\"1\" class=\"dataframe\">\n",
       "  <thead>\n",
       "    <tr style=\"text-align: right;\">\n",
       "      <th></th>\n",
       "      <th>종가</th>\n",
       "      <th>전일비</th>\n",
       "      <th>시가</th>\n",
       "      <th>고가</th>\n",
       "      <th>저가</th>\n",
       "      <th>거래량</th>\n",
       "    </tr>\n",
       "  </thead>\n",
       "  <tbody>\n",
       "    <tr>\n",
       "      <th>count</th>\n",
       "      <td>100.00000</td>\n",
       "      <td>100.000000</td>\n",
       "      <td>100.000000</td>\n",
       "      <td>100.000000</td>\n",
       "      <td>100.000000</td>\n",
       "      <td>1.000000e+02</td>\n",
       "    </tr>\n",
       "    <tr>\n",
       "      <th>mean</th>\n",
       "      <td>164690.00000</td>\n",
       "      <td>2755.000000</td>\n",
       "      <td>165105.000000</td>\n",
       "      <td>167325.000000</td>\n",
       "      <td>162040.000000</td>\n",
       "      <td>4.330877e+05</td>\n",
       "    </tr>\n",
       "    <tr>\n",
       "      <th>std</th>\n",
       "      <td>11958.00311</td>\n",
       "      <td>2878.424618</td>\n",
       "      <td>12100.858764</td>\n",
       "      <td>12312.918198</td>\n",
       "      <td>11450.746524</td>\n",
       "      <td>4.701523e+05</td>\n",
       "    </tr>\n",
       "    <tr>\n",
       "      <th>min</th>\n",
       "      <td>140500.00000</td>\n",
       "      <td>0.000000</td>\n",
       "      <td>141000.000000</td>\n",
       "      <td>142500.000000</td>\n",
       "      <td>138000.000000</td>\n",
       "      <td>1.074820e+05</td>\n",
       "    </tr>\n",
       "    <tr>\n",
       "      <th>25%</th>\n",
       "      <td>155000.00000</td>\n",
       "      <td>1000.000000</td>\n",
       "      <td>155375.000000</td>\n",
       "      <td>157375.000000</td>\n",
       "      <td>152500.000000</td>\n",
       "      <td>1.934870e+05</td>\n",
       "    </tr>\n",
       "    <tr>\n",
       "      <th>50%</th>\n",
       "      <td>166750.00000</td>\n",
       "      <td>2000.000000</td>\n",
       "      <td>167750.000000</td>\n",
       "      <td>169000.000000</td>\n",
       "      <td>162500.000000</td>\n",
       "      <td>2.538250e+05</td>\n",
       "    </tr>\n",
       "    <tr>\n",
       "      <th>75%</th>\n",
       "      <td>171750.00000</td>\n",
       "      <td>3500.000000</td>\n",
       "      <td>172625.000000</td>\n",
       "      <td>174125.000000</td>\n",
       "      <td>170500.000000</td>\n",
       "      <td>4.583068e+05</td>\n",
       "    </tr>\n",
       "    <tr>\n",
       "      <th>max</th>\n",
       "      <td>191500.00000</td>\n",
       "      <td>16000.000000</td>\n",
       "      <td>194000.000000</td>\n",
       "      <td>197000.000000</td>\n",
       "      <td>187000.000000</td>\n",
       "      <td>3.338448e+06</td>\n",
       "    </tr>\n",
       "  </tbody>\n",
       "</table>\n",
       "</div>"
      ],
      "text/plain": [
       "                 종가           전일비             시가             고가  \\\n",
       "count     100.00000    100.000000     100.000000     100.000000   \n",
       "mean   164690.00000   2755.000000  165105.000000  167325.000000   \n",
       "std     11958.00311   2878.424618   12100.858764   12312.918198   \n",
       "min    140500.00000      0.000000  141000.000000  142500.000000   \n",
       "25%    155000.00000   1000.000000  155375.000000  157375.000000   \n",
       "50%    166750.00000   2000.000000  167750.000000  169000.000000   \n",
       "75%    171750.00000   3500.000000  172625.000000  174125.000000   \n",
       "max    191500.00000  16000.000000  194000.000000  197000.000000   \n",
       "\n",
       "                  저가           거래량  \n",
       "count     100.000000  1.000000e+02  \n",
       "mean   162040.000000  4.330877e+05  \n",
       "std     11450.746524  4.701523e+05  \n",
       "min    138000.000000  1.074820e+05  \n",
       "25%    152500.000000  1.934870e+05  \n",
       "50%    162500.000000  2.538250e+05  \n",
       "75%    170500.000000  4.583068e+05  \n",
       "max    187000.000000  3.338448e+06  "
      ]
     },
     "execution_count": 20,
     "metadata": {},
     "output_type": "execute_result"
    }
   ],
   "source": [
    "# describe는 기본적으로 수치데이터에 대한 기술통계값을 구하게 됩니다.\n",
    "df.describe()"
   ]
  },
  {
   "cell_type": "markdown",
   "metadata": {},
   "source": [
    "* 참고 : E notation\n",
    "[과학적 기수법 - 위키백과, 우리 모두의 백과사전](https://ko.wikipedia.org/wiki/%EA%B3%BC%ED%95%99%EC%A0%81_%EA%B8%B0%EC%88%98%EB%B2%95)\n",
    "\n",
    "과학적 기수법, 과학적 표기법(scientific notation, scientific form, standard index form, standard form)은 너무 크거나 너무 작은 숫자들을 십진법으로 편하게 작성하여 표현하는 방법이다. 과학자, 수학자, 공학자들이 공통적으로 사용하는데, 부분적인 이유는 특정한 산술을 단순화시켜 주기 때문이다. 과학 계산기에서는 \"SCI\" 디스플레이 모드라는 이름으로 알려져 있다."
   ]
  },
  {
   "cell_type": "code",
   "execution_count": 21,
   "metadata": {},
   "outputs": [
    {
     "data": {
      "text/plain": [
       "100.0"
      ]
     },
     "execution_count": 21,
     "metadata": {},
     "output_type": "execute_result"
    }
   ],
   "source": [
    "# 거래량의 과학적 기수법 읽기\n",
    "1.000000e+02"
   ]
  },
  {
   "cell_type": "code",
   "execution_count": 22,
   "metadata": {},
   "outputs": [
    {
     "data": {
      "text/plain": [
       "470152.3"
      ]
     },
     "execution_count": 22,
     "metadata": {},
     "output_type": "execute_result"
    }
   ],
   "source": [
    "4.701523e+05"
   ]
  },
  {
   "cell_type": "code",
   "execution_count": 23,
   "metadata": {},
   "outputs": [
    {
     "data": {
      "text/plain": [
       "470152.3"
      ]
     },
     "execution_count": 23,
     "metadata": {},
     "output_type": "execute_result"
    }
   ],
   "source": [
    "4.701523 * (10 ** 5)"
   ]
  },
  {
   "cell_type": "markdown",
   "metadata": {
    "id": "Ql0phnyuTMkB"
   },
   "source": [
    "## 최근 날짜 구해서 파일명 만들기"
   ]
  },
  {
   "cell_type": "code",
   "execution_count": 24,
   "metadata": {
    "id": "_dyLUpVVTMkB"
   },
   "outputs": [
    {
     "data": {
      "text/plain": [
       "'2021.01.29'"
      ]
     },
     "execution_count": 24,
     "metadata": {},
     "output_type": "execute_result"
    }
   ],
   "source": [
    "# 날짜 column의 첫 row값 확인\n",
    "date = df.iloc[0][\"날짜\"]\n",
    "date"
   ]
  },
  {
   "cell_type": "code",
   "execution_count": 25,
   "metadata": {
    "id": "teInPugvTMkB"
   },
   "outputs": [
    {
     "data": {
      "text/plain": [
       "'SK바이오팜_326030_2021.01.29.csv'"
      ]
     },
     "execution_count": 25,
     "metadata": {},
     "output_type": "execute_result"
    }
   ],
   "source": [
    "# 종목명, 종목코드, 날짜를 이름으로 하는 csv 파일명 만들기\n",
    "file_name = f\"{item_name}_{item_code}_{date}.csv\"\n",
    "file_name"
   ]
  },
  {
   "cell_type": "markdown",
   "metadata": {
    "id": "1LXe-dutTMkB"
   },
   "source": [
    "## 파일로 저장하기"
   ]
  },
  {
   "cell_type": "code",
   "execution_count": 26,
   "metadata": {
    "id": "dBRXOwIxTMkB"
   },
   "outputs": [],
   "source": [
    "# 파일로 저장하기 \n",
    "# index=False 로 데이터프레임의 기본 index 는 저장하지 않도록 합니다.\n",
    "df.to_csv(file_name, index=False)"
   ]
  },
  {
   "cell_type": "code",
   "execution_count": 27,
   "metadata": {
    "id": "EEfm9Yk9TMkB"
   },
   "outputs": [
    {
     "data": {
      "text/html": [
       "<div>\n",
       "<style scoped>\n",
       "    .dataframe tbody tr th:only-of-type {\n",
       "        vertical-align: middle;\n",
       "    }\n",
       "\n",
       "    .dataframe tbody tr th {\n",
       "        vertical-align: top;\n",
       "    }\n",
       "\n",
       "    .dataframe thead th {\n",
       "        text-align: right;\n",
       "    }\n",
       "</style>\n",
       "<table border=\"1\" class=\"dataframe\">\n",
       "  <thead>\n",
       "    <tr style=\"text-align: right;\">\n",
       "      <th></th>\n",
       "      <th>종목코드</th>\n",
       "      <th>종목명</th>\n",
       "      <th>날짜</th>\n",
       "      <th>종가</th>\n",
       "      <th>전일비</th>\n",
       "      <th>시가</th>\n",
       "      <th>고가</th>\n",
       "      <th>저가</th>\n",
       "      <th>거래량</th>\n",
       "    </tr>\n",
       "  </thead>\n",
       "  <tbody>\n",
       "    <tr>\n",
       "      <th>0</th>\n",
       "      <td>326030</td>\n",
       "      <td>SK바이오팜</td>\n",
       "      <td>2021.01.29</td>\n",
       "      <td>145000.0</td>\n",
       "      <td>3000.0</td>\n",
       "      <td>149000.0</td>\n",
       "      <td>149500.0</td>\n",
       "      <td>144500.0</td>\n",
       "      <td>254107.0</td>\n",
       "    </tr>\n",
       "    <tr>\n",
       "      <th>1</th>\n",
       "      <td>326030</td>\n",
       "      <td>SK바이오팜</td>\n",
       "      <td>2021.01.28</td>\n",
       "      <td>148000.0</td>\n",
       "      <td>1500.0</td>\n",
       "      <td>148000.0</td>\n",
       "      <td>150500.0</td>\n",
       "      <td>147000.0</td>\n",
       "      <td>200418.0</td>\n",
       "    </tr>\n",
       "    <tr>\n",
       "      <th>2</th>\n",
       "      <td>326030</td>\n",
       "      <td>SK바이오팜</td>\n",
       "      <td>2021.01.27</td>\n",
       "      <td>149500.0</td>\n",
       "      <td>2500.0</td>\n",
       "      <td>152000.0</td>\n",
       "      <td>153000.0</td>\n",
       "      <td>149500.0</td>\n",
       "      <td>167932.0</td>\n",
       "    </tr>\n",
       "    <tr>\n",
       "      <th>3</th>\n",
       "      <td>326030</td>\n",
       "      <td>SK바이오팜</td>\n",
       "      <td>2021.01.26</td>\n",
       "      <td>152000.0</td>\n",
       "      <td>0.0</td>\n",
       "      <td>153000.0</td>\n",
       "      <td>155000.0</td>\n",
       "      <td>151500.0</td>\n",
       "      <td>245969.0</td>\n",
       "    </tr>\n",
       "    <tr>\n",
       "      <th>4</th>\n",
       "      <td>326030</td>\n",
       "      <td>SK바이오팜</td>\n",
       "      <td>2021.01.25</td>\n",
       "      <td>152000.0</td>\n",
       "      <td>1500.0</td>\n",
       "      <td>151000.0</td>\n",
       "      <td>153500.0</td>\n",
       "      <td>150500.0</td>\n",
       "      <td>250843.0</td>\n",
       "    </tr>\n",
       "    <tr>\n",
       "      <th>...</th>\n",
       "      <td>...</td>\n",
       "      <td>...</td>\n",
       "      <td>...</td>\n",
       "      <td>...</td>\n",
       "      <td>...</td>\n",
       "      <td>...</td>\n",
       "      <td>...</td>\n",
       "      <td>...</td>\n",
       "      <td>...</td>\n",
       "    </tr>\n",
       "    <tr>\n",
       "      <th>95</th>\n",
       "      <td>326030</td>\n",
       "      <td>SK바이오팜</td>\n",
       "      <td>2020.09.09</td>\n",
       "      <td>191000.0</td>\n",
       "      <td>3000.0</td>\n",
       "      <td>184500.0</td>\n",
       "      <td>194000.0</td>\n",
       "      <td>181000.0</td>\n",
       "      <td>752071.0</td>\n",
       "    </tr>\n",
       "    <tr>\n",
       "      <th>96</th>\n",
       "      <td>326030</td>\n",
       "      <td>SK바이오팜</td>\n",
       "      <td>2020.09.08</td>\n",
       "      <td>188000.0</td>\n",
       "      <td>3500.0</td>\n",
       "      <td>193000.0</td>\n",
       "      <td>197000.0</td>\n",
       "      <td>187000.0</td>\n",
       "      <td>688213.0</td>\n",
       "    </tr>\n",
       "    <tr>\n",
       "      <th>97</th>\n",
       "      <td>326030</td>\n",
       "      <td>SK바이오팜</td>\n",
       "      <td>2020.09.07</td>\n",
       "      <td>191500.0</td>\n",
       "      <td>1500.0</td>\n",
       "      <td>193000.0</td>\n",
       "      <td>193500.0</td>\n",
       "      <td>187000.0</td>\n",
       "      <td>588499.0</td>\n",
       "    </tr>\n",
       "    <tr>\n",
       "      <th>98</th>\n",
       "      <td>326030</td>\n",
       "      <td>SK바이오팜</td>\n",
       "      <td>2020.09.04</td>\n",
       "      <td>190000.0</td>\n",
       "      <td>8000.0</td>\n",
       "      <td>177000.0</td>\n",
       "      <td>191500.0</td>\n",
       "      <td>177000.0</td>\n",
       "      <td>1263233.0</td>\n",
       "    </tr>\n",
       "    <tr>\n",
       "      <th>99</th>\n",
       "      <td>326030</td>\n",
       "      <td>SK바이오팜</td>\n",
       "      <td>2020.09.03</td>\n",
       "      <td>182000.0</td>\n",
       "      <td>500.0</td>\n",
       "      <td>183500.0</td>\n",
       "      <td>186500.0</td>\n",
       "      <td>179000.0</td>\n",
       "      <td>564777.0</td>\n",
       "    </tr>\n",
       "  </tbody>\n",
       "</table>\n",
       "<p>100 rows × 9 columns</p>\n",
       "</div>"
      ],
      "text/plain": [
       "      종목코드     종목명          날짜        종가     전일비        시가        고가  \\\n",
       "0   326030  SK바이오팜  2021.01.29  145000.0  3000.0  149000.0  149500.0   \n",
       "1   326030  SK바이오팜  2021.01.28  148000.0  1500.0  148000.0  150500.0   \n",
       "2   326030  SK바이오팜  2021.01.27  149500.0  2500.0  152000.0  153000.0   \n",
       "3   326030  SK바이오팜  2021.01.26  152000.0     0.0  153000.0  155000.0   \n",
       "4   326030  SK바이오팜  2021.01.25  152000.0  1500.0  151000.0  153500.0   \n",
       "..     ...     ...         ...       ...     ...       ...       ...   \n",
       "95  326030  SK바이오팜  2020.09.09  191000.0  3000.0  184500.0  194000.0   \n",
       "96  326030  SK바이오팜  2020.09.08  188000.0  3500.0  193000.0  197000.0   \n",
       "97  326030  SK바이오팜  2020.09.07  191500.0  1500.0  193000.0  193500.0   \n",
       "98  326030  SK바이오팜  2020.09.04  190000.0  8000.0  177000.0  191500.0   \n",
       "99  326030  SK바이오팜  2020.09.03  182000.0   500.0  183500.0  186500.0   \n",
       "\n",
       "          저가        거래량  \n",
       "0   144500.0   254107.0  \n",
       "1   147000.0   200418.0  \n",
       "2   149500.0   167932.0  \n",
       "3   151500.0   245969.0  \n",
       "4   150500.0   250843.0  \n",
       "..       ...        ...  \n",
       "95  181000.0   752071.0  \n",
       "96  187000.0   688213.0  \n",
       "97  187000.0   588499.0  \n",
       "98  177000.0  1263233.0  \n",
       "99  179000.0   564777.0  \n",
       "\n",
       "[100 rows x 9 columns]"
      ]
     },
     "execution_count": 27,
     "metadata": {},
     "output_type": "execute_result"
    }
   ],
   "source": [
    "# 제대로 저장되었는지 파일을 읽어서 확인합니다\n",
    "pd.read_csv(file_name)"
   ]
  },
  {
   "cell_type": "markdown",
   "metadata": {},
   "source": [
    "## 전체 과정을 하나의 함수로 만들기"
   ]
  },
  {
   "cell_type": "code",
   "execution_count": 28,
   "metadata": {},
   "outputs": [],
   "source": [
    "def get_item_list(item_code, item_name):\n",
    "    \"\"\"\n",
    "    일별 시세를 수집하는 함수\n",
    "    \"\"\"\n",
    "    # web page 시작번호\n",
    "    page_no = 1\n",
    "    # 데이터를 저장할 빈 변수 선언\n",
    "    item_list = []\n",
    "\n",
    "    while True:\n",
    "        temp = get_day_list(item_code, page_no)\n",
    "        item_list.append(temp)\n",
    "\n",
    "        page_no = page_no + 1\n",
    "        time.sleep(0.1)\n",
    "\n",
    "        #if temp.shape[0] < 10:\n",
    "        if page_no > 10:\n",
    "            break\n",
    "            \n",
    "    df = pd.concat(item_list)\n",
    "    df[\"종목코드\"] = item_code\n",
    "    df[\"종목명\"] = item_name\n",
    "    cols = ['종목코드', '종목명', '날짜', '종가', '전일비', '시가', '고가', '저가', '거래량']\n",
    "    df = df[cols]\n",
    "\n",
    "    return df"
   ]
  },
  {
   "cell_type": "code",
   "execution_count": 29,
   "metadata": {},
   "outputs": [
    {
     "data": {
      "text/html": [
       "<div>\n",
       "<style scoped>\n",
       "    .dataframe tbody tr th:only-of-type {\n",
       "        vertical-align: middle;\n",
       "    }\n",
       "\n",
       "    .dataframe tbody tr th {\n",
       "        vertical-align: top;\n",
       "    }\n",
       "\n",
       "    .dataframe thead th {\n",
       "        text-align: right;\n",
       "    }\n",
       "</style>\n",
       "<table border=\"1\" class=\"dataframe\">\n",
       "  <thead>\n",
       "    <tr style=\"text-align: right;\">\n",
       "      <th></th>\n",
       "      <th>종목코드</th>\n",
       "      <th>종목명</th>\n",
       "      <th>날짜</th>\n",
       "      <th>종가</th>\n",
       "      <th>전일비</th>\n",
       "      <th>시가</th>\n",
       "      <th>고가</th>\n",
       "      <th>저가</th>\n",
       "      <th>거래량</th>\n",
       "    </tr>\n",
       "  </thead>\n",
       "  <tbody>\n",
       "    <tr>\n",
       "      <th>1</th>\n",
       "      <td>352820</td>\n",
       "      <td>빅히트</td>\n",
       "      <td>2021.01.29</td>\n",
       "      <td>204500.0</td>\n",
       "      <td>15500.0</td>\n",
       "      <td>222000.0</td>\n",
       "      <td>222000.0</td>\n",
       "      <td>200500.0</td>\n",
       "      <td>765211.0</td>\n",
       "    </tr>\n",
       "    <tr>\n",
       "      <th>2</th>\n",
       "      <td>352820</td>\n",
       "      <td>빅히트</td>\n",
       "      <td>2021.01.28</td>\n",
       "      <td>220000.0</td>\n",
       "      <td>12500.0</td>\n",
       "      <td>213000.0</td>\n",
       "      <td>225000.0</td>\n",
       "      <td>208500.0</td>\n",
       "      <td>1653828.0</td>\n",
       "    </tr>\n",
       "    <tr>\n",
       "      <th>3</th>\n",
       "      <td>352820</td>\n",
       "      <td>빅히트</td>\n",
       "      <td>2021.01.27</td>\n",
       "      <td>207500.0</td>\n",
       "      <td>3000.0</td>\n",
       "      <td>208000.0</td>\n",
       "      <td>221500.0</td>\n",
       "      <td>206500.0</td>\n",
       "      <td>1003201.0</td>\n",
       "    </tr>\n",
       "    <tr>\n",
       "      <th>4</th>\n",
       "      <td>352820</td>\n",
       "      <td>빅히트</td>\n",
       "      <td>2021.01.26</td>\n",
       "      <td>210500.0</td>\n",
       "      <td>7000.0</td>\n",
       "      <td>203500.0</td>\n",
       "      <td>219000.0</td>\n",
       "      <td>194500.0</td>\n",
       "      <td>906368.0</td>\n",
       "    </tr>\n",
       "    <tr>\n",
       "      <th>5</th>\n",
       "      <td>352820</td>\n",
       "      <td>빅히트</td>\n",
       "      <td>2021.01.25</td>\n",
       "      <td>203500.0</td>\n",
       "      <td>11000.0</td>\n",
       "      <td>202000.0</td>\n",
       "      <td>217000.0</td>\n",
       "      <td>197500.0</td>\n",
       "      <td>1884652.0</td>\n",
       "    </tr>\n",
       "    <tr>\n",
       "      <th>...</th>\n",
       "      <td>...</td>\n",
       "      <td>...</td>\n",
       "      <td>...</td>\n",
       "      <td>...</td>\n",
       "      <td>...</td>\n",
       "      <td>...</td>\n",
       "      <td>...</td>\n",
       "      <td>...</td>\n",
       "      <td>...</td>\n",
       "    </tr>\n",
       "    <tr>\n",
       "      <th>4</th>\n",
       "      <td>352820</td>\n",
       "      <td>빅히트</td>\n",
       "      <td>2020.10.15</td>\n",
       "      <td>258000.0</td>\n",
       "      <td>12000.0</td>\n",
       "      <td>270000.0</td>\n",
       "      <td>351000.0</td>\n",
       "      <td>253500.0</td>\n",
       "      <td>6557212.0</td>\n",
       "    </tr>\n",
       "    <tr>\n",
       "      <th>1</th>\n",
       "      <td>352820</td>\n",
       "      <td>빅히트</td>\n",
       "      <td>2020.10.20</td>\n",
       "      <td>182500.0</td>\n",
       "      <td>6500.0</td>\n",
       "      <td>190000.0</td>\n",
       "      <td>193500.0</td>\n",
       "      <td>176000.0</td>\n",
       "      <td>1811616.0</td>\n",
       "    </tr>\n",
       "    <tr>\n",
       "      <th>2</th>\n",
       "      <td>352820</td>\n",
       "      <td>빅히트</td>\n",
       "      <td>2020.10.19</td>\n",
       "      <td>189000.0</td>\n",
       "      <td>11500.0</td>\n",
       "      <td>198500.0</td>\n",
       "      <td>202500.0</td>\n",
       "      <td>187000.0</td>\n",
       "      <td>1977996.0</td>\n",
       "    </tr>\n",
       "    <tr>\n",
       "      <th>3</th>\n",
       "      <td>352820</td>\n",
       "      <td>빅히트</td>\n",
       "      <td>2020.10.16</td>\n",
       "      <td>200500.0</td>\n",
       "      <td>57500.0</td>\n",
       "      <td>253000.0</td>\n",
       "      <td>253000.0</td>\n",
       "      <td>199000.0</td>\n",
       "      <td>4504395.0</td>\n",
       "    </tr>\n",
       "    <tr>\n",
       "      <th>4</th>\n",
       "      <td>352820</td>\n",
       "      <td>빅히트</td>\n",
       "      <td>2020.10.15</td>\n",
       "      <td>258000.0</td>\n",
       "      <td>12000.0</td>\n",
       "      <td>270000.0</td>\n",
       "      <td>351000.0</td>\n",
       "      <td>253500.0</td>\n",
       "      <td>6557212.0</td>\n",
       "    </tr>\n",
       "  </tbody>\n",
       "</table>\n",
       "<p>82 rows × 9 columns</p>\n",
       "</div>"
      ],
      "text/plain": [
       "      종목코드  종목명          날짜        종가      전일비        시가        고가        저가  \\\n",
       "1   352820  빅히트  2021.01.29  204500.0  15500.0  222000.0  222000.0  200500.0   \n",
       "2   352820  빅히트  2021.01.28  220000.0  12500.0  213000.0  225000.0  208500.0   \n",
       "3   352820  빅히트  2021.01.27  207500.0   3000.0  208000.0  221500.0  206500.0   \n",
       "4   352820  빅히트  2021.01.26  210500.0   7000.0  203500.0  219000.0  194500.0   \n",
       "5   352820  빅히트  2021.01.25  203500.0  11000.0  202000.0  217000.0  197500.0   \n",
       "..     ...  ...         ...       ...      ...       ...       ...       ...   \n",
       "4   352820  빅히트  2020.10.15  258000.0  12000.0  270000.0  351000.0  253500.0   \n",
       "1   352820  빅히트  2020.10.20  182500.0   6500.0  190000.0  193500.0  176000.0   \n",
       "2   352820  빅히트  2020.10.19  189000.0  11500.0  198500.0  202500.0  187000.0   \n",
       "3   352820  빅히트  2020.10.16  200500.0  57500.0  253000.0  253000.0  199000.0   \n",
       "4   352820  빅히트  2020.10.15  258000.0  12000.0  270000.0  351000.0  253500.0   \n",
       "\n",
       "          거래량  \n",
       "1    765211.0  \n",
       "2   1653828.0  \n",
       "3   1003201.0  \n",
       "4    906368.0  \n",
       "5   1884652.0  \n",
       "..        ...  \n",
       "4   6557212.0  \n",
       "1   1811616.0  \n",
       "2   1977996.0  \n",
       "3   4504395.0  \n",
       "4   6557212.0  \n",
       "\n",
       "[82 rows x 9 columns]"
      ]
     },
     "execution_count": 29,
     "metadata": {},
     "output_type": "execute_result"
    }
   ],
   "source": [
    "item_code = \"352820\"\n",
    "item_name = \"빅히트\"\n",
    "\n",
    "# item_code = \"326030\"\n",
    "# item_name = \"SK바이오팜\"\n",
    "\n",
    "get_item_list(item_code, item_name)"
   ]
  },
  {
   "cell_type": "markdown",
   "metadata": {},
   "source": [
    "## 내가 만든 함수의 기능과 소스코드가 궁금하다면?"
   ]
  },
  {
   "cell_type": "code",
   "execution_count": 30,
   "metadata": {},
   "outputs": [],
   "source": [
    "# 도움말 보기\n",
    "# get_item_list?\n"
   ]
  },
  {
   "cell_type": "code",
   "execution_count": 31,
   "metadata": {},
   "outputs": [],
   "source": [
    "# 소스코드 보기\n",
    "# get_item_list??\n"
   ]
  },
  {
   "cell_type": "code",
   "execution_count": null,
   "metadata": {},
   "outputs": [],
   "source": []
  }
 ],
 "metadata": {
  "colab": {
   "collapsed_sections": [],
   "name": "3. 네이버금융 개별종목 수집.ipynb",
   "provenance": [],
   "toc_visible": true
  },
  "kernelspec": {
   "display_name": "Python 3",
   "language": "python",
   "name": "python3"
  },
  "language_info": {
   "codemirror_mode": {
    "name": "ipython",
    "version": 3
   },
   "file_extension": ".py",
   "mimetype": "text/x-python",
   "name": "python",
   "nbconvert_exporter": "python",
   "pygments_lexer": "ipython3",
   "version": "3.7.6"
  },
  "toc": {
   "base_numbering": 1,
   "nav_menu": {},
   "number_sections": true,
   "sideBar": true,
   "skip_h1_title": false,
   "title_cell": "Table of Contents",
   "title_sidebar": "Contents",
   "toc_cell": false,
   "toc_position": {
    "height": "calc(100% - 180px)",
    "left": "10px",
    "top": "150px",
    "width": "204.8px"
   },
   "toc_section_display": true,
   "toc_window_display": true
  },
  "varInspector": {
   "cols": {
    "lenName": 16,
    "lenType": 16,
    "lenVar": 40
   },
   "kernels_config": {
    "python": {
     "delete_cmd_postfix": "",
     "delete_cmd_prefix": "del ",
     "library": "var_list.py",
     "varRefreshCmd": "print(var_dic_list())"
    },
    "r": {
     "delete_cmd_postfix": ") ",
     "delete_cmd_prefix": "rm(",
     "library": "var_list.r",
     "varRefreshCmd": "cat(var_dic_list()) "
    }
   },
   "types_to_exclude": [
    "module",
    "function",
    "builtin_function_or_method",
    "instance",
    "_Feature"
   ],
   "window_display": false
  }
 },
 "nbformat": 4,
 "nbformat_minor": 1
}
